{
 "cells": [
  {
   "cell_type": "code",
   "execution_count": 1,
   "id": "3d795cd4",
   "metadata": {},
   "outputs": [],
   "source": [
    "import pandas as pd"
   ]
  },
  {
   "cell_type": "code",
   "execution_count": 2,
   "id": "14fe2921",
   "metadata": {},
   "outputs": [
    {
     "data": {
      "text/html": [
       "<div>\n",
       "<style scoped>\n",
       "    .dataframe tbody tr th:only-of-type {\n",
       "        vertical-align: middle;\n",
       "    }\n",
       "\n",
       "    .dataframe tbody tr th {\n",
       "        vertical-align: top;\n",
       "    }\n",
       "\n",
       "    .dataframe thead th {\n",
       "        text-align: right;\n",
       "    }\n",
       "</style>\n",
       "<table border=\"1\" class=\"dataframe\">\n",
       "  <thead>\n",
       "    <tr style=\"text-align: right;\">\n",
       "      <th></th>\n",
       "      <th>image</th>\n",
       "      <th>name</th>\n",
       "      <th>author</th>\n",
       "      <th>format</th>\n",
       "      <th>book_depository_stars</th>\n",
       "      <th>price</th>\n",
       "      <th>currency</th>\n",
       "      <th>old_price</th>\n",
       "      <th>isbn</th>\n",
       "      <th>category</th>\n",
       "      <th>img_paths</th>\n",
       "    </tr>\n",
       "  </thead>\n",
       "  <tbody>\n",
       "    <tr>\n",
       "      <th>0</th>\n",
       "      <td>https://d1w7fb2mkkr3kw.cloudfront.net/assets/i...</td>\n",
       "      <td>This is Going to Hurt</td>\n",
       "      <td>Adam Kay</td>\n",
       "      <td>Paperback</td>\n",
       "      <td>4.5</td>\n",
       "      <td>7.6</td>\n",
       "      <td>$</td>\n",
       "      <td>11.4</td>\n",
       "      <td>9781509858637</td>\n",
       "      <td>Medical</td>\n",
       "      <td>dataset/Medical/0000001.jpg</td>\n",
       "    </tr>\n",
       "    <tr>\n",
       "      <th>1</th>\n",
       "      <td>https://d1w7fb2mkkr3kw.cloudfront.net/assets/i...</td>\n",
       "      <td>Thinking, Fast and Slow</td>\n",
       "      <td>Daniel Kahneman</td>\n",
       "      <td>Paperback</td>\n",
       "      <td>4.0</td>\n",
       "      <td>11.5</td>\n",
       "      <td>$</td>\n",
       "      <td>15.0</td>\n",
       "      <td>9780141033570</td>\n",
       "      <td>Medical</td>\n",
       "      <td>dataset/Medical/0000002.jpg</td>\n",
       "    </tr>\n",
       "    <tr>\n",
       "      <th>2</th>\n",
       "      <td>https://d1w7fb2mkkr3kw.cloudfront.net/assets/i...</td>\n",
       "      <td>When Breath Becomes Air</td>\n",
       "      <td>Paul Kalanithi</td>\n",
       "      <td>Paperback</td>\n",
       "      <td>4.5</td>\n",
       "      <td>9.05</td>\n",
       "      <td>$</td>\n",
       "      <td>11.5</td>\n",
       "      <td>9781784701994</td>\n",
       "      <td>Medical</td>\n",
       "      <td>dataset/Medical/0000003.jpg</td>\n",
       "    </tr>\n",
       "    <tr>\n",
       "      <th>3</th>\n",
       "      <td>https://d1w7fb2mkkr3kw.cloudfront.net/assets/i...</td>\n",
       "      <td>The Happiness Trap</td>\n",
       "      <td>Russ Harris</td>\n",
       "      <td>Paperback</td>\n",
       "      <td>4.0</td>\n",
       "      <td>8.34</td>\n",
       "      <td>$</td>\n",
       "      <td>13.9</td>\n",
       "      <td>9781845298258</td>\n",
       "      <td>Medical</td>\n",
       "      <td>dataset/Medical/0000004.jpg</td>\n",
       "    </tr>\n",
       "    <tr>\n",
       "      <th>4</th>\n",
       "      <td>https://d1w7fb2mkkr3kw.cloudfront.net/assets/i...</td>\n",
       "      <td>Man's Search For Meaning</td>\n",
       "      <td>Viktor E. Frankl</td>\n",
       "      <td>Paperback</td>\n",
       "      <td>4.5</td>\n",
       "      <td>9.66</td>\n",
       "      <td>$</td>\n",
       "      <td>NaN</td>\n",
       "      <td>9781846041242</td>\n",
       "      <td>Medical</td>\n",
       "      <td>dataset/Medical/0000005.jpg</td>\n",
       "    </tr>\n",
       "  </tbody>\n",
       "</table>\n",
       "</div>"
      ],
      "text/plain": [
       "                                               image  \\\n",
       "0  https://d1w7fb2mkkr3kw.cloudfront.net/assets/i...   \n",
       "1  https://d1w7fb2mkkr3kw.cloudfront.net/assets/i...   \n",
       "2  https://d1w7fb2mkkr3kw.cloudfront.net/assets/i...   \n",
       "3  https://d1w7fb2mkkr3kw.cloudfront.net/assets/i...   \n",
       "4  https://d1w7fb2mkkr3kw.cloudfront.net/assets/i...   \n",
       "\n",
       "                       name            author     format  \\\n",
       "0     This is Going to Hurt          Adam Kay  Paperback   \n",
       "1   Thinking, Fast and Slow   Daniel Kahneman  Paperback   \n",
       "2   When Breath Becomes Air    Paul Kalanithi  Paperback   \n",
       "3        The Happiness Trap       Russ Harris  Paperback   \n",
       "4  Man's Search For Meaning  Viktor E. Frankl  Paperback   \n",
       "\n",
       "   book_depository_stars price currency  old_price           isbn category  \\\n",
       "0                    4.5   7.6        $       11.4  9781509858637  Medical   \n",
       "1                    4.0  11.5        $       15.0  9780141033570  Medical   \n",
       "2                    4.5  9.05        $       11.5  9781784701994  Medical   \n",
       "3                    4.0  8.34        $       13.9  9781845298258  Medical   \n",
       "4                    4.5  9.66        $        NaN  9781846041242  Medical   \n",
       "\n",
       "                     img_paths  \n",
       "0  dataset/Medical/0000001.jpg  \n",
       "1  dataset/Medical/0000002.jpg  \n",
       "2  dataset/Medical/0000003.jpg  \n",
       "3  dataset/Medical/0000004.jpg  \n",
       "4  dataset/Medical/0000005.jpg  "
      ]
     },
     "execution_count": 2,
     "metadata": {},
     "output_type": "execute_result"
    }
   ],
   "source": [
    "df = pd.read_csv('main_dataset.csv')\n",
    "df.head()"
   ]
  },
  {
   "cell_type": "code",
   "execution_count": 3,
   "id": "e6ea751f",
   "metadata": {},
   "outputs": [
    {
     "name": "stdout",
     "output_type": "stream",
     "text": [
      "['Paperback' 'Hardback' nan 'Spiral bound' 'Mixed media product' 'Cards'\n",
      " 'Fold-out book or chart' 'CD-Audio' 'Book' 'Sheet music' 'Game'\n",
      " 'Board book' 'Bath book' 'Notebook / blank book' 'Postcard book or pack'\n",
      " 'Calendar' 'Leather / fine binding' 'Diary' 'Novelty book' 'Loose-leaf'\n",
      " 'DVD video' 'CD-ROM' 'Boxed Set' 'Pamphlet' 'Sheet map'\n",
      " 'Sheet map, folded' 'Toy' 'General merchandise' 'Other merchandise'\n",
      " 'Miscellaneous print' 'Address book' 'Multiple copy pack']\n"
     ]
    }
   ],
   "source": [
    "print(df['format'].unique())"
   ]
  },
  {
   "cell_type": "code",
   "execution_count": 4,
   "id": "86ac0be7",
   "metadata": {},
   "outputs": [],
   "source": [
    "only_format = df['format']"
   ]
  },
  {
   "cell_type": "code",
   "execution_count": 5,
   "id": "9feae0e8",
   "metadata": {},
   "outputs": [
    {
     "data": {
      "text/plain": [
       "0        Paperback\n",
       "1        Paperback\n",
       "2        Paperback\n",
       "3        Paperback\n",
       "4        Paperback\n",
       "           ...    \n",
       "32576    Paperback\n",
       "32577    Paperback\n",
       "32578    Paperback\n",
       "32579     Hardback\n",
       "32580     Hardback\n",
       "Name: format, Length: 32581, dtype: object"
      ]
     },
     "execution_count": 5,
     "metadata": {},
     "output_type": "execute_result"
    }
   ],
   "source": [
    "only_format"
   ]
  },
  {
   "cell_type": "code",
   "execution_count": 6,
   "id": "6c371e43",
   "metadata": {},
   "outputs": [
    {
     "name": "stdout",
     "output_type": "stream",
     "text": [
      "0\n"
     ]
    }
   ],
   "source": [
    "df['format'].fillna('NA', inplace=True)\n",
    "print(df['format'].isnull().sum())"
   ]
  },
  {
   "cell_type": "code",
   "execution_count": 7,
   "id": "5f7b3b70",
   "metadata": {},
   "outputs": [],
   "source": [
    "df['format'] = df['format'].apply(lambda x: str(x).replace('/', '').lower())"
   ]
  },
  {
   "cell_type": "code",
   "execution_count": 8,
   "id": "72880eed",
   "metadata": {},
   "outputs": [
    {
     "name": "stdout",
     "output_type": "stream",
     "text": [
      "<class 'pandas.core.frame.DataFrame'>\n",
      "RangeIndex: 32581 entries, 0 to 32580\n",
      "Data columns (total 11 columns):\n",
      " #   Column                 Non-Null Count  Dtype  \n",
      "---  ------                 --------------  -----  \n",
      " 0   image                  32581 non-null  object \n",
      " 1   name                   32581 non-null  object \n",
      " 2   author                 32383 non-null  object \n",
      " 3   format                 32581 non-null  object \n",
      " 4   book_depository_stars  32581 non-null  float64\n",
      " 5   price                  32581 non-null  object \n",
      " 6   currency               32581 non-null  object \n",
      " 7   old_price              27467 non-null  float64\n",
      " 8   isbn                   32581 non-null  int64  \n",
      " 9   category               32581 non-null  object \n",
      " 10  img_paths              32581 non-null  object \n",
      "dtypes: float64(2), int64(1), object(8)\n",
      "memory usage: 2.7+ MB\n"
     ]
    }
   ],
   "source": [
    "df.info()"
   ]
  },
  {
   "cell_type": "code",
   "execution_count": 9,
   "id": "507ed661",
   "metadata": {},
   "outputs": [],
   "source": [
    "import re\n",
    "\n",
    "str_case = r\"[^\\d.]+\"\n",
    "df['price']=df['price'].apply(lambda x: re.sub(str_case, \"\", str(x)) if re.search(str_case, str(x)) else str(x))"
   ]
  },
  {
   "cell_type": "code",
   "execution_count": 10,
   "id": "ae618d44",
   "metadata": {},
   "outputs": [],
   "source": [
    "df['price'] = df['price'].astype('float64')\n",
    "df['currency'] = df['currency'].astype('category')\n",
    "df['category'] = df['category'].astype('category')"
   ]
  },
  {
   "cell_type": "code",
   "execution_count": 11,
   "id": "0a8097e3",
   "metadata": {},
   "outputs": [
    {
     "name": "stdout",
     "output_type": "stream",
     "text": [
      "Total fallacies found: 0\n"
     ]
    }
   ],
   "source": [
    "import re \n",
    "fallacies = []\n",
    "for _, row in df.iterrows():\n",
    "    price = row['price']\n",
    "    if re.search(str_case, str(price)):\n",
    "        # print(f\"Price contains non-numeric characters: {price}\")\n",
    "        fallacies.append(price)\n",
    "print(f\"Total fallacies found: {len(fallacies)}\")"
   ]
  },
  {
   "cell_type": "code",
   "execution_count": 13,
   "id": "a193017c",
   "metadata": {},
   "outputs": [],
   "source": [
    "df[\"img_paths\"] = df[\"img_paths\"].apply(lambda x: str(x).replace(\"dataset/\", \"\"))"
   ]
  },
  {
   "cell_type": "code",
   "execution_count": 14,
   "id": "ac493753",
   "metadata": {},
   "outputs": [
    {
     "data": {
      "text/plain": [
       "Index(['image', 'name', 'author', 'format', 'book_depository_stars', 'price',\n",
       "       'currency', 'old_price', 'isbn', 'category', 'img_paths'],\n",
       "      dtype='object')"
      ]
     },
     "execution_count": 14,
     "metadata": {},
     "output_type": "execute_result"
    }
   ],
   "source": [
    "df.columns"
   ]
  },
  {
   "cell_type": "code",
   "execution_count": null,
   "id": "2aea93d7",
   "metadata": {},
   "outputs": [
    {
     "data": {
      "text/plain": [
       "0         7.60\n",
       "1        11.50\n",
       "2         9.05\n",
       "3         8.34\n",
       "4         9.66\n",
       "         ...  \n",
       "32576    15.52\n",
       "32577    14.26\n",
       "32578    43.12\n",
       "32579    20.84\n",
       "32580    21.40\n",
       "Name: price, Length: 32581, dtype: float64"
      ]
     },
     "execution_count": 19,
     "metadata": {},
     "output_type": "execute_result"
    }
   ],
   "source": [
    "df.drop(columns=[\"image\", 'format', \"old_price\"], axis=1)\n",
    "df['price'].astype('float64')\n"
   ]
  },
  {
   "cell_type": "code",
   "execution_count": null,
   "id": "4cdeda7d",
   "metadata": {},
   "outputs": [],
   "source": []
  }
 ],
 "metadata": {
  "kernelspec": {
   "display_name": ".venv",
   "language": "python",
   "name": "python3"
  },
  "language_info": {
   "codemirror_mode": {
    "name": "ipython",
    "version": 3
   },
   "file_extension": ".py",
   "mimetype": "text/x-python",
   "name": "python",
   "nbconvert_exporter": "python",
   "pygments_lexer": "ipython3",
   "version": "3.9.22"
  }
 },
 "nbformat": 4,
 "nbformat_minor": 5
}
